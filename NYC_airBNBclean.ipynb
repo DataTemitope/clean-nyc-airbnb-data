{
 "cells": [
  {
   "cell_type": "code",
   "execution_count": null,
   "id": "2c06bde3-25a5-4a80-a677-6336801811d0",
   "metadata": {},
   "outputs": [],
   "source": [
    "# nyc air bnb 2019 data cleaning task"
   ]
  },
  {
   "cell_type": "code",
   "execution_count": 1,
   "id": "6d9b8499-0ba8-4994-b472-4b2a5bd3ca64",
   "metadata": {},
   "outputs": [],
   "source": [
    "import pandas as pd\n",
    "import numpy as np\n",
    "import matplotlib.pyplot as plt\n",
    "import seaborn as sns\n"
   ]
  },
  {
   "cell_type": "code",
   "execution_count": 3,
   "id": "90592dae-0977-491b-bdc4-ca439d0f9341",
   "metadata": {},
   "outputs": [
    {
     "name": "stdout",
     "output_type": "stream",
     "text": [
      "<class 'pandas.core.frame.DataFrame'>\n",
      "RangeIndex: 48895 entries, 0 to 48894\n",
      "Data columns (total 16 columns):\n",
      " #   Column                          Non-Null Count  Dtype  \n",
      "---  ------                          --------------  -----  \n",
      " 0   id                              48895 non-null  int64  \n",
      " 1   name                            48879 non-null  object \n",
      " 2   host_id                         48895 non-null  int64  \n",
      " 3   host_name                       48874 non-null  object \n",
      " 4   neighbourhood_group             48895 non-null  object \n",
      " 5   neighbourhood                   48895 non-null  object \n",
      " 6   latitude                        48895 non-null  float64\n",
      " 7   longitude                       48895 non-null  float64\n",
      " 8   room_type                       48895 non-null  object \n",
      " 9   price                           48895 non-null  int64  \n",
      " 10  minimum_nights                  48895 non-null  int64  \n",
      " 11  number_of_reviews               48895 non-null  int64  \n",
      " 12  last_review                     38843 non-null  object \n",
      " 13  reviews_per_month               38843 non-null  float64\n",
      " 14  calculated_host_listings_count  48895 non-null  int64  \n",
      " 15  availability_365                48895 non-null  int64  \n",
      "dtypes: float64(3), int64(7), object(6)\n",
      "memory usage: 6.0+ MB\n"
     ]
    }
   ],
   "source": [
    "# Load the dataset\n",
    "df = pd.read_csv(r'C:\\Users\\User\\Documents\\NYC_air_bnb_2019.csv') \n",
    "# Inspect the first few rows\n",
    "df.head()\n",
    "# Get an overview of the dataset\n",
    "df.info()\n"
   ]
  },
  {
   "cell_type": "code",
   "execution_count": 4,
   "id": "00a808fd-945f-4e74-be44-89bc31e3a00c",
   "metadata": {},
   "outputs": [
    {
     "name": "stdout",
     "output_type": "stream",
     "text": [
      "id                                    0\n",
      "name                                 16\n",
      "host_id                               0\n",
      "host_name                            21\n",
      "neighbourhood_group                   0\n",
      "neighbourhood                         0\n",
      "latitude                              0\n",
      "longitude                             0\n",
      "room_type                             0\n",
      "price                                 0\n",
      "minimum_nights                        0\n",
      "number_of_reviews                     0\n",
      "last_review                       10052\n",
      "reviews_per_month                 10052\n",
      "calculated_host_listings_count        0\n",
      "availability_365                      0\n",
      "dtype: int64\n"
     ]
    }
   ],
   "source": [
    "# Check for missing values\n",
    "print(df.isnull().sum())\n"
   ]
  },
  {
   "cell_type": "code",
   "execution_count": 5,
   "id": "c121e21c-9af2-4909-9e40-1e86459e5d6a",
   "metadata": {},
   "outputs": [
    {
     "name": "stdout",
     "output_type": "stream",
     "text": [
      "0\n"
     ]
    }
   ],
   "source": [
    "# Check for duplicate rows\n",
    "print(df.duplicated().sum())\n"
   ]
  },
  {
   "cell_type": "code",
   "execution_count": 6,
   "id": "9f38327f-e085-4730-80d8-e33fa3ab54e6",
   "metadata": {},
   "outputs": [
    {
     "name": "stdout",
     "output_type": "stream",
     "text": [
      "                 id       host_id      latitude     longitude         price  \\\n",
      "count  4.889500e+04  4.889500e+04  48895.000000  48895.000000  48895.000000   \n",
      "mean   1.901714e+07  6.762001e+07     40.728949    -73.952170    152.720687   \n",
      "std    1.098311e+07  7.861097e+07      0.054530      0.046157    240.154170   \n",
      "min    2.539000e+03  2.438000e+03     40.499790    -74.244420      0.000000   \n",
      "25%    9.471945e+06  7.822033e+06     40.690100    -73.983070     69.000000   \n",
      "50%    1.967728e+07  3.079382e+07     40.723070    -73.955680    106.000000   \n",
      "75%    2.915218e+07  1.074344e+08     40.763115    -73.936275    175.000000   \n",
      "max    3.648724e+07  2.743213e+08     40.913060    -73.712990  10000.000000   \n",
      "\n",
      "       minimum_nights  number_of_reviews  reviews_per_month  \\\n",
      "count    48895.000000       48895.000000       38843.000000   \n",
      "mean         7.029962          23.274466           1.373221   \n",
      "std         20.510550          44.550582           1.680442   \n",
      "min          1.000000           0.000000           0.010000   \n",
      "25%          1.000000           1.000000           0.190000   \n",
      "50%          3.000000           5.000000           0.720000   \n",
      "75%          5.000000          24.000000           2.020000   \n",
      "max       1250.000000         629.000000          58.500000   \n",
      "\n",
      "       calculated_host_listings_count  availability_365  \n",
      "count                    48895.000000      48895.000000  \n",
      "mean                         7.143982        112.781327  \n",
      "std                         32.952519        131.622289  \n",
      "min                          1.000000          0.000000  \n",
      "25%                          1.000000          0.000000  \n",
      "50%                          1.000000         45.000000  \n",
      "75%                          2.000000        227.000000  \n",
      "max                        327.000000        365.000000  \n"
     ]
    }
   ],
   "source": [
    "# Basic statistics\n",
    "print(df.describe())\n"
   ]
  },
  {
   "cell_type": "code",
   "execution_count": 7,
   "id": "dc6e4679-defd-4dba-a785-e1cd814a7c16",
   "metadata": {},
   "outputs": [
    {
     "name": "stdout",
     "output_type": "stream",
     "text": [
      "id: 48895 unique values\n",
      "name: 47896 unique values\n",
      "host_id: 37457 unique values\n",
      "host_name: 11452 unique values\n",
      "neighbourhood_group: 5 unique values\n",
      "neighbourhood: 221 unique values\n",
      "latitude: 19048 unique values\n",
      "longitude: 14718 unique values\n",
      "room_type: 3 unique values\n",
      "price: 674 unique values\n",
      "minimum_nights: 109 unique values\n",
      "number_of_reviews: 394 unique values\n",
      "last_review: 1764 unique values\n",
      "reviews_per_month: 937 unique values\n",
      "calculated_host_listings_count: 47 unique values\n",
      "availability_365: 366 unique values\n"
     ]
    }
   ],
   "source": [
    "# Check unique values in each column\n",
    "for col in df.columns:\n",
    "    print(f\"{col}: {df[col].nunique()} unique values\")\n"
   ]
  },
  {
   "cell_type": "code",
   "execution_count": 11,
   "id": "63585f5d-983a-4ae5-848a-0749da337443",
   "metadata": {},
   "outputs": [],
   "source": [
    "# Fill missing numerical values with the mean/median\n",
    "df['reviews_per_month'] = df['reviews_per_month'].fillna(0)\n"
   ]
  },
  {
   "cell_type": "code",
   "execution_count": 12,
   "id": "b245c9f1-68bc-4183-99c8-ff9174d4c8ea",
   "metadata": {},
   "outputs": [],
   "source": [
    "df['last_review'] = pd.to_datetime(df['last_review'], errors='coerce')\n"
   ]
  },
  {
   "cell_type": "code",
   "execution_count": null,
   "id": "b84af4f6-5046-44ac-8152-2f43571ad524",
   "metadata": {},
   "outputs": [],
   "source": [
    "#above code converts last_review to date"
   ]
  },
  {
   "cell_type": "code",
   "execution_count": 13,
   "id": "b13b622f-9672-43b0-8a0f-c75bd4921f65",
   "metadata": {},
   "outputs": [],
   "source": [
    "# Fill blank or NaN names with \"Unknown\"\n",
    "df['name'] = df['name'].replace('', 'Unknown')  # Replace empty strings\n",
    "df['name'] = df['name'].fillna('Unknown')       # Replace NaN values\n"
   ]
  },
  {
   "cell_type": "code",
   "execution_count": 14,
   "id": "9daad64c-9196-46c5-aa4a-cd6cbaf31861",
   "metadata": {},
   "outputs": [
    {
     "name": "stdout",
     "output_type": "stream",
     "text": [
      "             id     name   host_id host_name neighbourhood_group  \\\n",
      "2854    1615764  Unknown   6676776     Peter           Manhattan   \n",
      "3703    2232600  Unknown  11395220      Anna           Manhattan   \n",
      "5775    4209595  Unknown  20700823     Jesse           Manhattan   \n",
      "5975    4370230  Unknown  22686810   Michaël           Manhattan   \n",
      "6269    4581788  Unknown  21600904     Lucie            Brooklyn   \n",
      "6567    4756856  Unknown   1832442  Carolina            Brooklyn   \n",
      "6605    4774658  Unknown  24625694      Josh           Manhattan   \n",
      "8841    6782407  Unknown  31147528  Huei-Yin            Brooklyn   \n",
      "11963   9325951  Unknown  33377685  Jonathan           Manhattan   \n",
      "12824   9787590  Unknown  50448556    Miguel           Manhattan   \n",
      "13059   9885866  Unknown  37306329  Juliette           Manhattan   \n",
      "13401  10052289  Unknown  49522403   Vanessa            Brooklyn   \n",
      "15819  12797684  Unknown  69715276       Yan           Manhattan   \n",
      "16071  12988898  Unknown  71552588    Andrea               Bronx   \n",
      "18047  14135050  Unknown  85288337      Jeff            Brooklyn   \n",
      "28889  22275821  Unknown  49662398  Kathleen            Brooklyn   \n",
      "\n",
      "            neighbourhood  latitude  longitude        room_type  price  \\\n",
      "2854    Battery Park City  40.71239  -74.01620  Entire home/apt    400   \n",
      "3703         East Village  40.73215  -73.98821  Entire home/apt    200   \n",
      "5775    Greenwich Village  40.73473  -73.99244  Entire home/apt    225   \n",
      "5975               Nolita  40.72046  -73.99550  Entire home/apt    215   \n",
      "6269         Williamsburg  40.71370  -73.94378     Private room    150   \n",
      "6567             Bushwick  40.70046  -73.92825     Private room     70   \n",
      "6605   Washington Heights  40.85198  -73.93108     Private room     40   \n",
      "8841         Williamsburg  40.71354  -73.93882     Private room     45   \n",
      "11963      Hell's Kitchen  40.76436  -73.98573  Entire home/apt    190   \n",
      "12824              Harlem  40.80316  -73.95189  Entire home/apt    300   \n",
      "13059           Chinatown  40.71632  -73.99328     Private room     67   \n",
      "13401         Brownsville  40.66409  -73.92314     Private room     50   \n",
      "15819     Upper West Side  40.79843  -73.96404     Private room    100   \n",
      "16071             Fordham  40.86032  -73.88493      Shared room    130   \n",
      "18047  Bedford-Stuyvesant  40.69421  -73.93234     Private room     70   \n",
      "28889            Bushwick  40.69546  -73.92741  Entire home/apt    110   \n",
      "\n",
      "       minimum_nights  number_of_reviews last_review  reviews_per_month  \\\n",
      "2854             1000                  0         NaT               0.00   \n",
      "3703                1                 28  2015-06-08               0.45   \n",
      "5775                1                  1  2015-01-01               0.02   \n",
      "5975                7                  5  2016-01-02               0.09   \n",
      "6269                1                  0         NaT               0.00   \n",
      "6567                1                  0         NaT               0.00   \n",
      "6605                1                  0         NaT               0.00   \n",
      "8841                1                  0         NaT               0.00   \n",
      "11963               4                  1  2016-01-05               0.02   \n",
      "12824               5                  0         NaT               0.00   \n",
      "13059               4                  0         NaT               0.00   \n",
      "13401               3                  3  2016-08-18               0.07   \n",
      "15819               1                  0         NaT               0.00   \n",
      "16071               1                  0         NaT               0.00   \n",
      "18047               3                  0         NaT               0.00   \n",
      "28889               4                  5  2018-08-13               0.27   \n",
      "\n",
      "       calculated_host_listings_count  availability_365  \n",
      "2854                                1               362  \n",
      "3703                                1               341  \n",
      "5775                                1                 0  \n",
      "5975                                1                 0  \n",
      "6269                                1                 0  \n",
      "6567                                1                 0  \n",
      "6605                                1                 0  \n",
      "8841                                1                 0  \n",
      "11963                               1                 0  \n",
      "12824                               5                 0  \n",
      "13059                               1                 0  \n",
      "13401                               1               362  \n",
      "15819                               2                 0  \n",
      "16071                               1               365  \n",
      "18047                               1                 0  \n",
      "28889                               1                 0  \n"
     ]
    }
   ],
   "source": [
    "print(df[df['name'] == 'Unknown'])"
   ]
  },
  {
   "cell_type": "code",
   "execution_count": 15,
   "id": "b022d332-11f1-42d6-b157-672e32ef80df",
   "metadata": {},
   "outputs": [
    {
     "name": "stdout",
     "output_type": "stream",
     "text": [
      "             id                                               name   host_id  \\\n",
      "2          3647                THE VILLAGE OF HARLEM....NEW YORK !      4632   \n",
      "19         7750                  Huge 2 BR Upper East  Cental Park     17985   \n",
      "26         8700  Magnifique Suite au N de Manhattan - vue Cloitres     26394   \n",
      "36        11452                        Clean and Quiet in Brooklyn      7355   \n",
      "38        11943                          Country space in the city     45445   \n",
      "...         ...                                                ...       ...   \n",
      "48890  36484665    Charming one bedroom - newly renovated rowhouse   8232441   \n",
      "48891  36485057      Affordable room in Bushwick/East Williamsburg   6570630   \n",
      "48892  36485431            Sunny Studio at Historical Neighborhood  23492952   \n",
      "48893  36485609               43rd St. Time Square-cozy single bed  30985759   \n",
      "48894  36487245  Trendy duplex in the very heart of Hell's Kitchen  68119814   \n",
      "\n",
      "             host_name neighbourhood_group       neighbourhood  latitude  \\\n",
      "2            Elisabeth           Manhattan              Harlem  40.80902   \n",
      "19                Sing           Manhattan         East Harlem  40.79685   \n",
      "26     Claude & Sophie           Manhattan              Inwood  40.86754   \n",
      "36                  Vt            Brooklyn  Bedford-Stuyvesant  40.68876   \n",
      "38             Harriet            Brooklyn            Flatbush  40.63702   \n",
      "...                ...                 ...                 ...       ...   \n",
      "48890          Sabrina            Brooklyn  Bedford-Stuyvesant  40.67853   \n",
      "48891          Marisol            Brooklyn            Bushwick  40.70184   \n",
      "48892    Ilgar & Aysel           Manhattan              Harlem  40.81475   \n",
      "48893              Taz           Manhattan      Hell's Kitchen  40.75751   \n",
      "48894       Christophe           Manhattan      Hell's Kitchen  40.76404   \n",
      "\n",
      "       longitude        room_type  price  minimum_nights  number_of_reviews  \\\n",
      "2      -73.94190     Private room    150               3                  0   \n",
      "19     -73.94872  Entire home/apt    190               7                  0   \n",
      "26     -73.92639     Private room     80               4                  0   \n",
      "36     -73.94312     Private room     35              60                  0   \n",
      "38     -73.96327     Private room    150               1                  0   \n",
      "...          ...              ...    ...             ...                ...   \n",
      "48890  -73.94995     Private room     70               2                  0   \n",
      "48891  -73.93317     Private room     40               4                  0   \n",
      "48892  -73.94867  Entire home/apt    115              10                  0   \n",
      "48893  -73.99112      Shared room     55               1                  0   \n",
      "48894  -73.98933     Private room     90               7                  0   \n",
      "\n",
      "      last_review  reviews_per_month  calculated_host_listings_count  \\\n",
      "2             NaT                0.0                               1   \n",
      "19            NaT                0.0                               2   \n",
      "26            NaT                0.0                               1   \n",
      "36            NaT                0.0                               1   \n",
      "38            NaT                0.0                               1   \n",
      "...           ...                ...                             ...   \n",
      "48890         NaT                0.0                               2   \n",
      "48891         NaT                0.0                               2   \n",
      "48892         NaT                0.0                               1   \n",
      "48893         NaT                0.0                               6   \n",
      "48894         NaT                0.0                               1   \n",
      "\n",
      "       availability_365  \n",
      "2                   365  \n",
      "19                  249  \n",
      "26                    0  \n",
      "36                  365  \n",
      "38                  365  \n",
      "...                 ...  \n",
      "48890                 9  \n",
      "48891                36  \n",
      "48892                27  \n",
      "48893                 2  \n",
      "48894                23  \n",
      "\n",
      "[10068 rows x 16 columns]\n"
     ]
    }
   ],
   "source": [
    "# Check for rows with any blank ('') or missing (NaN) values in the DataFrame\n",
    "blank_rows = df[(df.isna().any(axis=1)) | (df.eq('').any(axis=1))]\n",
    "\n",
    "# Display the rows with blanks or missing values\n",
    "print(blank_rows)\n"
   ]
  },
  {
   "cell_type": "code",
   "execution_count": 16,
   "id": "c5fa62ed-5d58-440f-b397-15cbdbbea24f",
   "metadata": {},
   "outputs": [],
   "source": [
    "# Fill blank or NaN host_names with \"Unknown\"\n",
    "df['host_name'] = df['host_name'].replace('', 'Unknown')  # Replace empty strings\n",
    "df['host_name'] = df['host_name'].fillna('Unknown')       # Replace NaN values"
   ]
  },
  {
   "cell_type": "code",
   "execution_count": 17,
   "id": "829319f9-d23b-4fea-a049-f138830c19d6",
   "metadata": {},
   "outputs": [],
   "source": [
    "#standardize case - convert all text columns to proper case i.e capitalize first letter\n",
    "df['name'] = df['name'].str.title().str.strip()\n",
    "df['host_name'] = df['host_name'].str.title().str.strip()\n",
    "df['room_type'] = df['room_type'].str.title().str.strip()\n",
    "df['neighbourhood_group'] = df['neighbourhood_group'].str.title().str.strip()\n",
    "df['neighbourhood'] = df['neighbourhood'].str.title().str.strip()\n"
   ]
  },
  {
   "cell_type": "code",
   "execution_count": 18,
   "id": "6859c554-f0f9-4cdd-8c85-fa36112eed6a",
   "metadata": {},
   "outputs": [
    {
     "name": "stdout",
     "output_type": "stream",
     "text": [
      "id                                    0\n",
      "name                                  0\n",
      "host_id                               0\n",
      "host_name                             0\n",
      "neighbourhood_group                   0\n",
      "neighbourhood                         0\n",
      "latitude                              0\n",
      "longitude                             0\n",
      "room_type                             0\n",
      "price                                 0\n",
      "minimum_nights                        0\n",
      "number_of_reviews                     0\n",
      "last_review                       10052\n",
      "reviews_per_month                     0\n",
      "calculated_host_listings_count        0\n",
      "availability_365                      0\n",
      "dtype: int64\n"
     ]
    }
   ],
   "source": [
    "# Ensure there are no missing values\n",
    "print(df.isnull().sum())\n"
   ]
  },
  {
   "cell_type": "code",
   "execution_count": 19,
   "id": "d3011618-e7b9-41fc-97eb-60b64f78d9c7",
   "metadata": {},
   "outputs": [
    {
     "name": "stdout",
     "output_type": "stream",
     "text": [
      "0\n"
     ]
    }
   ],
   "source": [
    "# Recheck duplicates\n",
    "print(df.duplicated().sum())\n",
    "\n"
   ]
  },
  {
   "cell_type": "code",
   "execution_count": 20,
   "id": "91d43ac3-48aa-4642-a6d6-61c8e59fbbb5",
   "metadata": {},
   "outputs": [
    {
     "name": "stdout",
     "output_type": "stream",
     "text": [
      "id                                         int64\n",
      "name                                      object\n",
      "host_id                                    int64\n",
      "host_name                                 object\n",
      "neighbourhood_group                       object\n",
      "neighbourhood                             object\n",
      "latitude                                 float64\n",
      "longitude                                float64\n",
      "room_type                                 object\n",
      "price                                      int64\n",
      "minimum_nights                             int64\n",
      "number_of_reviews                          int64\n",
      "last_review                       datetime64[ns]\n",
      "reviews_per_month                        float64\n",
      "calculated_host_listings_count             int64\n",
      "availability_365                           int64\n",
      "dtype: object\n"
     ]
    }
   ],
   "source": [
    "# Confirm data types\n",
    "print(df.dtypes)"
   ]
  },
  {
   "cell_type": "code",
   "execution_count": 21,
   "id": "e4fe97ac-9e93-4f97-97c4-d532d46c23d3",
   "metadata": {},
   "outputs": [],
   "source": [
    "#some rows in the name column has * in the names \n",
    "#removing the special character *\n",
    "df['name'] = df['name'].str.replace('*', '', regex=False)\n"
   ]
  },
  {
   "cell_type": "code",
   "execution_count": 22,
   "id": "0d80bd28-0a70-4b37-8fb0-3db2a7ddbdb6",
   "metadata": {},
   "outputs": [],
   "source": [
    "#detecting outliers\n",
    "\n",
    "\n",
    "# List of columns to check for outliers\n",
    "numerical_columns = ['price', 'minimum_nights', 'number_of_reviews', 'reviews_per_month', 'availability_365']\n",
    "\n",
    "# Function to detect outliers using IQR\n",
    "def detect_outliers(df, columns):\n",
    "    outliers = {}\n",
    "    \n",
    "    for column in columns:\n",
    "        Q1 = df[column].quantile(0.25)\n",
    "        Q3 = df[column].quantile(0.75)\n",
    "        IQR = Q3 - Q1\n",
    "        \n",
    "        lower_bound = Q1 - 1.5 * IQR\n",
    "        upper_bound = Q3 + 1.5 * IQR\n",
    "        \n",
    "        # Identifying outliers\n",
    "        outliers[column] = df[(df[column] < lower_bound) | (df[column] > upper_bound)]\n",
    "    \n",
    "    return outliers\n",
    "\n"
   ]
  },
  {
   "cell_type": "code",
   "execution_count": 23,
   "id": "9812a29c-249d-4646-8c04-1a5676f3b25b",
   "metadata": {},
   "outputs": [
    {
     "name": "stdout",
     "output_type": "stream",
     "text": [
      "Outliers detected in column: price\n",
      "             id                                               name    host_id  \\\n",
      "61        15396                 Sunny & Spacious Chelsea Apartment      60278   \n",
      "85        19601                Perfect For A Family Or Small Group      74303   \n",
      "103       23686  2000 Sf 3Br 2Bath West Village Private  Townhouse      93790   \n",
      "114       26933  2 Br / 2 Bath Duplex Apt With Patio! East Village      72062   \n",
      "121       27659                   3 Story Town House In Park Slope     119588   \n",
      "...         ...                                                ...        ...   \n",
      "48758  36420289    Rustic Garden House Apt, 2 Stops From Manhattan   73211393   \n",
      "48833  36450896   Brand New 3-Bed Apt In The Best Location Of Fidi   29741813   \n",
      "48839  36452721  Massage Spa. Stay Overnight. Authors Artist Dr...  274079964   \n",
      "48842  36453160  Luxury Manhattan Penthouse+Hudson River+Empire...  224171371   \n",
      "48856  36457700  Large 3 Bed, 2 Bath , Garden , Bbq , All You Need   66993395   \n",
      "\n",
      "                     host_name neighbourhood_group       neighbourhood  \\\n",
      "61                       Petra           Manhattan             Chelsea   \n",
      "85                      Maggie            Brooklyn    Brooklyn Heights   \n",
      "103                        Ann           Manhattan        West Village   \n",
      "114                      Bruce           Manhattan        East Village   \n",
      "121                       Vero            Brooklyn         South Slope   \n",
      "...                        ...                 ...                 ...   \n",
      "48758                Lagabrell              Queens    Long Island City   \n",
      "48833                      Yue           Manhattan  Financial District   \n",
      "48839                  Richard            Brooklyn      Sheepshead Bay   \n",
      "48842  Luxuryapartmentsbyamber           Manhattan             Chelsea   \n",
      "48856                   Thomas            Brooklyn  Bedford-Stuyvesant   \n",
      "\n",
      "       latitude  longitude        room_type  price  minimum_nights  \\\n",
      "61     40.74623  -73.99530  Entire Home/Apt    375             180   \n",
      "85     40.69723  -73.99268  Entire Home/Apt    800               1   \n",
      "103    40.73096  -74.00319  Entire Home/Apt    500               4   \n",
      "114    40.72540  -73.98157  Entire Home/Apt    350               2   \n",
      "121    40.66499  -73.97925  Entire Home/Apt    400               2   \n",
      "...         ...        ...              ...    ...             ...   \n",
      "48758  40.75508  -73.93258  Entire Home/Apt    350               2   \n",
      "48833  40.70605  -74.01042  Entire Home/Apt    475               2   \n",
      "48839  40.59866  -73.95661     Private Room    800               1   \n",
      "48842  40.75204  -74.00292  Entire Home/Apt    350               1   \n",
      "48856  40.68886  -73.92879  Entire Home/Apt    345               4   \n",
      "\n",
      "       number_of_reviews last_review  reviews_per_month  \\\n",
      "61                     5  2018-11-03               0.12   \n",
      "85                    25  2016-08-04               0.24   \n",
      "103                   46  2019-05-18               0.55   \n",
      "114                    7  2017-08-09               0.06   \n",
      "121                   16  2018-12-30               0.24   \n",
      "...                  ...         ...                ...   \n",
      "48758                  0         NaT               0.00   \n",
      "48833                  0         NaT               0.00   \n",
      "48839                  0         NaT               0.00   \n",
      "48842                  0         NaT               0.00   \n",
      "48856                  0         NaT               0.00   \n",
      "\n",
      "       calculated_host_listings_count  availability_365  \n",
      "61                                  1               180  \n",
      "85                                  1                 7  \n",
      "103                                 2               243  \n",
      "114                                 4               298  \n",
      "121                                 2               216  \n",
      "...                               ...               ...  \n",
      "48758                               1               364  \n",
      "48833                               1                64  \n",
      "48839                               1                23  \n",
      "48842                               1                 9  \n",
      "48856                               3               354  \n",
      "\n",
      "[2972 rows x 16 columns]\n",
      "\n",
      "\n",
      "Outliers detected in column: minimum_nights\n",
      "             id                                               name    host_id  \\\n",
      "6          5121                                    Blissartsspace!       7356   \n",
      "14         6090                      West Village Nest - Superhost      11975   \n",
      "29         9657                   Modern 1 Br / Nyc / East Village      21904   \n",
      "36        11452                        Clean And Quiet In Brooklyn       7355   \n",
      "45        12627  Entire Apartment In Central Brooklyn Neighborh...      49670   \n",
      "...         ...                                                ...        ...   \n",
      "48810  36445121                 Uws Spacious Master Bedroom Sublet  274014453   \n",
      "48843  36453642     ☆  Huge, Sunlit Room - 3 Min Walk From Train !   53966115   \n",
      "48871  36475746      A Large Room - 1 Month Minimum - Washer&Dryer  144008701   \n",
      "48879  36480292  Gorgeous 1.5 Bdr With A Private Yard- Williams...     540335   \n",
      "48882  36482231                          Bushwick _ Myrtle-Wyckoff   66058896   \n",
      "\n",
      "       host_name neighbourhood_group              neighbourhood  latitude  \\\n",
      "6          Garon            Brooklyn         Bedford-Stuyvesant  40.68688   \n",
      "14         Alina           Manhattan               West Village  40.73530   \n",
      "29          Dana           Manhattan               East Village  40.72920   \n",
      "36            Vt            Brooklyn         Bedford-Stuyvesant  40.68876   \n",
      "45          Rana            Brooklyn  Prospect-Lefferts Gardens  40.65944   \n",
      "...          ...                 ...                        ...       ...   \n",
      "48810    Dagmara           Manhattan            Upper West Side  40.79952   \n",
      "48843       Nora            Brooklyn         Bedford-Stuyvesant  40.69635   \n",
      "48871  Ozzy Ciao           Manhattan                     Harlem  40.82233   \n",
      "48879        Lee            Brooklyn               Williamsburg  40.71728   \n",
      "48882      Luisa            Brooklyn                   Bushwick  40.69652   \n",
      "\n",
      "       longitude        room_type  price  minimum_nights  number_of_reviews  \\\n",
      "6      -73.95596     Private Room     60              45                 49   \n",
      "14     -74.00525  Entire Home/Apt    120              90                 27   \n",
      "29     -73.98542  Entire Home/Apt    180              14                 29   \n",
      "36     -73.94312     Private Room     35              60                  0   \n",
      "45     -73.96238  Entire Home/Apt    150              29                 11   \n",
      "...          ...              ...    ...             ...                ...   \n",
      "48810  -73.96003     Private Room     75              30                  0   \n",
      "48843  -73.93743     Private Room     45              29                  0   \n",
      "48871  -73.94687     Private Room     35              29                  0   \n",
      "48879  -73.94394  Entire Home/Apt    120              20                  0   \n",
      "48882  -73.91079     Private Room     40              20                  0   \n",
      "\n",
      "      last_review  reviews_per_month  calculated_host_listings_count  \\\n",
      "6      2017-10-05               0.40                               1   \n",
      "14     2018-10-31               0.22                               1   \n",
      "29     2019-04-19               0.24                               1   \n",
      "36            NaT               0.00                               1   \n",
      "45     2019-06-05               0.49                               1   \n",
      "...           ...                ...                             ...   \n",
      "48810         NaT               0.00                               1   \n",
      "48843         NaT               0.00                               2   \n",
      "48871         NaT               0.00                               2   \n",
      "48879         NaT               0.00                               1   \n",
      "48882         NaT               0.00                               1   \n",
      "\n",
      "       availability_365  \n",
      "6                     0  \n",
      "14                    0  \n",
      "29                   67  \n",
      "36                  365  \n",
      "45                   95  \n",
      "...                 ...  \n",
      "48810                90  \n",
      "48843               341  \n",
      "48871                31  \n",
      "48879                22  \n",
      "48882                31  \n",
      "\n",
      "[6607 rows x 16 columns]\n",
      "\n",
      "\n",
      "Outliers detected in column: number_of_reviews\n",
      "             id                                               name    host_id  \\\n",
      "3          3831                    Cozy Entire Floor Of Brownstone       4869   \n",
      "5          5099          Large Cozy 1 Br Apartment In Midtown East       7322   \n",
      "7          5178                    Large Furnished Room Near B'Way       8967   \n",
      "8          5203                 Cozy Clean Guest Room - Family Apt       7490   \n",
      "9          5238                 Cute & Cozy Lower East Side 1 Bdrm       7549   \n",
      "...         ...                                                ...        ...   \n",
      "40104  31123611     Jfk Airport Great Place To Stay 6 Minutes Away  232251881   \n",
      "40297  31249784        Studio Apartment 6 Minutes From Jfk Airport  232251881   \n",
      "40424  31336245           Jfk Crash Pad 1-2Persons In Shared Space  232251881   \n",
      "42075  32678719  Enjoy Great Views Of The City In Our Deluxe Room!  244361589   \n",
      "42076  32678720           Great Room In The Heart Of Times Square!  244361589   \n",
      "\n",
      "         host_name neighbourhood_group     neighbourhood  latitude  longitude  \\\n",
      "3      Lisaroxanne            Brooklyn      Clinton Hill  40.68514  -73.95976   \n",
      "5            Chris           Manhattan       Murray Hill  40.74767  -73.97500   \n",
      "7         Shunichi           Manhattan    Hell'S Kitchen  40.76489  -73.98493   \n",
      "8        Maryellen           Manhattan   Upper West Side  40.80178  -73.96723   \n",
      "9              Ben           Manhattan         Chinatown  40.71344  -73.99037   \n",
      "...            ...                 ...               ...       ...        ...   \n",
      "40104     Lakshmee              Queens           Jamaica  40.66823  -73.78374   \n",
      "40297     Lakshmee              Queens           Jamaica  40.66793  -73.78452   \n",
      "40424     Lakshmee              Queens           Jamaica  40.66715  -73.78346   \n",
      "42075      Row Nyc           Manhattan  Theater District  40.75918  -73.98801   \n",
      "42076      Row Nyc           Manhattan  Theater District  40.75828  -73.98876   \n",
      "\n",
      "             room_type  price  minimum_nights  number_of_reviews last_review  \\\n",
      "3      Entire Home/Apt     89               1                270  2019-07-05   \n",
      "5      Entire Home/Apt    200               3                 74  2019-06-22   \n",
      "7         Private Room     79               2                430  2019-06-24   \n",
      "8         Private Room     79               2                118  2017-07-21   \n",
      "9      Entire Home/Apt    150               1                160  2019-06-09   \n",
      "...                ...    ...             ...                ...         ...   \n",
      "40104      Shared Room     40               1                 65  2019-07-06   \n",
      "40297     Private Room     67               1                 95  2019-07-05   \n",
      "40424      Shared Room     39               1                 65  2019-07-07   \n",
      "42075     Private Room    100               1                156  2019-07-07   \n",
      "42076     Private Room    199               1                 82  2019-07-07   \n",
      "\n",
      "       reviews_per_month  calculated_host_listings_count  availability_365  \n",
      "3                   4.64                               1               194  \n",
      "5                   0.59                               1               129  \n",
      "7                   3.47                               1               220  \n",
      "8                   0.99                               1                 0  \n",
      "9                   1.33                               4               188  \n",
      "...                  ...                             ...               ...  \n",
      "40104              10.00                               8               346  \n",
      "40297              15.32                               8               145  \n",
      "40424              10.60                               8               320  \n",
      "42075              58.50                               9               299  \n",
      "42076              27.95                               9               299  \n",
      "\n",
      "[6021 rows x 16 columns]\n",
      "\n",
      "\n",
      "Outliers detected in column: reviews_per_month\n",
      "             id                                             name    host_id  \\\n",
      "3          3831                  Cozy Entire Floor Of Brownstone       4869   \n",
      "18         7726  Hip Historic Brownstone Apartment With Backyard      20950   \n",
      "67        16580              Sunny, Modern Room In East Village!      64442   \n",
      "113       26785                     Park Slope Green Guest House      42273   \n",
      "225       58059              Private Room On Historic Sugar Hill     277379   \n",
      "...         ...                                              ...        ...   \n",
      "47848  35945256                    Penn House~~~~5 Mins From Jfk  269113892   \n",
      "47967  36004542           Cosy Bedroom In The Heart Of Manhattan   30461045   \n",
      "48031  36041065      Large Bedroom With Private Bathroom Is Suit  225118276   \n",
      "48228  36145317                  1910 Original Rockaway Bungalow   63389796   \n",
      "48252  36152878                   Cozy Apartment In Midtown West  271928929   \n",
      "\n",
      "              host_name neighbourhood_group       neighbourhood  latitude  \\\n",
      "3           Lisaroxanne            Brooklyn        Clinton Hill  40.68514   \n",
      "18     Adam And Charity            Brooklyn       Crown Heights  40.67592   \n",
      "67                 Reka           Manhattan        East Village  40.72649   \n",
      "113                Dani            Brooklyn         South Slope  40.66853   \n",
      "225               Agnes           Manhattan              Harlem  40.82510   \n",
      "...                 ...                 ...                 ...       ...   \n",
      "47848              Penn              Queens             Jamaica  40.68248   \n",
      "47967            Dayana           Manhattan             Midtown  40.76384   \n",
      "48031     Alex And Mila            Brooklyn  Bedford-Stuyvesant  40.68380   \n",
      "48228             Diana              Queens      Rockaway Beach  40.58947   \n",
      "48252              Asil           Manhattan      Hell'S Kitchen  40.75402   \n",
      "\n",
      "       longitude        room_type  price  minimum_nights  number_of_reviews  \\\n",
      "3      -73.95976  Entire Home/Apt     89               1                270   \n",
      "18     -73.94694  Entire Home/Apt     99               3                 53   \n",
      "67     -73.97904     Private Room     80               1                338   \n",
      "113    -73.98912  Entire Home/Apt    120              30                467   \n",
      "225    -73.94287     Private Room     60               1                458   \n",
      "...          ...              ...    ...             ...                ...   \n",
      "47848  -73.79417  Entire Home/Apt    128               1                  5   \n",
      "47967  -73.98248     Private Room    125               1                  6   \n",
      "48031  -73.92854     Private Room     75               1                  7   \n",
      "48228  -73.81435  Entire Home/Apt    150               1                  5   \n",
      "48252  -73.99318  Entire Home/Apt     75               1                  4   \n",
      "\n",
      "      last_review  reviews_per_month  calculated_host_listings_count  \\\n",
      "3      2019-07-05               4.64                               1   \n",
      "18     2019-06-22               4.44                               1   \n",
      "67     2019-07-01               4.72                               2   \n",
      "113    2018-12-30               4.22                               2   \n",
      "225    2019-07-03               4.58                               2   \n",
      "...           ...                ...                             ...   \n",
      "47848  2019-07-01               5.00                               1   \n",
      "47967  2019-07-01               6.00                               1   \n",
      "48031  2019-07-06               7.00                               1   \n",
      "48228  2019-07-07               5.00                               1   \n",
      "48252  2019-07-05               4.00                               1   \n",
      "\n",
      "       availability_365  \n",
      "3                   194  \n",
      "18                   21  \n",
      "67                   72  \n",
      "113                 192  \n",
      "225                 258  \n",
      "...                 ...  \n",
      "47848               176  \n",
      "47967               142  \n",
      "48031               326  \n",
      "48228                79  \n",
      "48252                98  \n",
      "\n",
      "[3312 rows x 16 columns]\n",
      "\n",
      "\n",
      "Outliers detected in column: availability_365\n",
      "Empty DataFrame\n",
      "Columns: [id, name, host_id, host_name, neighbourhood_group, neighbourhood, latitude, longitude, room_type, price, minimum_nights, number_of_reviews, last_review, reviews_per_month, calculated_host_listings_count, availability_365]\n",
      "Index: []\n",
      "\n",
      "\n"
     ]
    }
   ],
   "source": [
    "# Detect outliers\n",
    "outliers = detect_outliers(df, numerical_columns)\n",
    "\n",
    "# Print outliers for each column\n",
    "for column, outlier_data in outliers.items():\n",
    "    print(f\"Outliers detected in column: {column}\")\n",
    "    print(outlier_data)\n",
    "    print(\"\\n\")"
   ]
  },
  {
   "cell_type": "code",
   "execution_count": 24,
   "id": "98789cfb-61c3-454f-bf40-1489aa22373b",
   "metadata": {},
   "outputs": [
    {
     "data": {
      "image/png": "[encoded data removed]",
      "text/plain": [
       "<Figure size 1200x800 with 5 Axes>"
      ]
     },
     "metadata": {},
     "output_type": "display_data"
    }
   ],
   "source": [
    "# Create a box plot for each numerical column\n",
    "plt.figure(figsize=(12, 8))\n",
    "for i, column in enumerate(numerical_columns, 1):\n",
    "    plt.subplot(2, 3, i)  # Create subplots (2 rows, 3 columns)\n",
    "    sns.boxplot(data=df, x=column)\n",
    "    plt.title(f'Boxplot for {column}')\n",
    "    plt.xticks(rotation=45)\n",
    "\n",
    "plt.tight_layout()\n",
    "plt.show()"
   ]
  },
  {
   "cell_type": "code",
   "execution_count": 25,
   "id": "9e1a653b-dfa1-49fb-89c8-078ad0baefa3",
   "metadata": {},
   "outputs": [
    {
     "data": {
      "image/png": "[encoded data removed]",
      "text/plain": [
       "<Figure size 800x600 with 1 Axes>"
      ]
     },
     "metadata": {},
     "output_type": "display_data"
    }
   ],
   "source": [
    "# Scatter plot of 'price' vs. 'reviews_per_month'\n",
    "plt.figure(figsize=(8, 6))\n",
    "sns.scatterplot(data=df, x='price', y='reviews_per_month')\n",
    "\n",
    "# Add title and labels\n",
    "plt.title('Scatter Plot of Price vs Reviews Per Month')\n",
    "plt.xlabel('Price')\n",
    "plt.ylabel('Reviews Per Month')\n",
    "\n",
    "plt.show()\n"
   ]
  },
  {
   "cell_type": "code",
   "execution_count": 26,
   "id": "a5254151-1fed-41ff-ab6e-ae94186c6706",
   "metadata": {},
   "outputs": [
    {
     "data": {
      "image/png": "[encoded data removed]",
      "text/plain": [
       "<Figure size 800x600 with 1 Axes>"
      ]
     },
     "metadata": {},
     "output_type": "display_data"
    }
   ],
   "source": [
    "# Detect outliers for price column\n",
    "outliers_price = outliers['price']\n",
    "\n",
    "# Plot boxplot with outliers highlighted\n",
    "plt.figure(figsize=(8, 6))\n",
    "sns.boxplot(data=df, x='price')\n",
    "\n",
    "# Highlight outliers in red\n",
    "plt.scatter(outliers_price['price'], [1] * len(outliers_price), color='red', label='Outliers', zorder=10)\n",
    "\n",
    "plt.title('Boxplot for Price with Outliers Highlighted')\n",
    "plt.legend()\n",
    "plt.show()"
   ]
  },
  {
   "cell_type": "code",
   "execution_count": null,
   "id": "a3da2af3-bf08-4c27-abcf-233b75f73865",
   "metadata": {},
   "outputs": [],
   "source": []
  }
 ],
 "metadata": {
  "kernelspec": {
   "display_name": "Python 3 (ipykernel)",
   "language": "python",
   "name": "python3"
  },
  "language_info": {
   "codemirror_mode": {
    "name": "ipython",
    "version": 3
   },
   "file_extension": ".py",
   "mimetype": "text/x-python",
   "name": "python",
   "nbconvert_exporter": "python",
   "pygments_lexer": "ipython3",
   "version": "3.11.7"
  }
 },
 "nbformat": 4,
 "nbformat_minor": 5
}
